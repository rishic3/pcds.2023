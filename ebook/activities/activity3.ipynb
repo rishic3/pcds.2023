{
 "cells": [
  {
   "cell_type": "markdown",
   "metadata": {},
   "source": [
    "#  Activity 3.0: Vectorization\n",
    "\n",
    "This mini activity is designed to help you get more comfortable with vectorization.  There are 3 total questions in two parts.\n",
    "\n",
    "**Due date**: Thursday October 5th, 2023, 9:00 pm EDT.\n",
    "\n",
    "**Instructions for Submission**: Submit via Gradescope."
   ]
  },
  {
   "cell_type": "markdown",
   "metadata": {},
   "source": [
    "## Part 1: Reading Vectorized Code\n",
    "\n",
    "In this problem you need to read, understand and explain what is going on in a few snippets of code that the compiler generated for the problem we discussed in class.  You will want to look up each instruction to understand what it is doing and what the cost is.\n",
    "\n",
    "The code and assembly can be seen [https://godbolt.org/z/d3oKW4K3E](https://godbolt.org/z/d3oKW4K3E)"
   ]
  },
  {
   "cell_type": "markdown",
   "metadata": {},
   "source": [
    "### Question 1\n",
    "We first look at the loop body \n",
    "\n",
    "```\n",
    ".LBB0_6:\n",
    "        vpcmpeqd        xmm3, xmm1, xmmword ptr [rdi + 4*rax]\n",
    "        vpmovzxdq       ymm3, xmm3              # ymm3 = xmm3[0],zero,xmm3[1],zero,xmm3[2],zero,xmm3[3],zero\n",
    "        vpand   ymm3, ymm3, ymm2\n",
    "        vpaddq  ymm0, ymm0, ymm3\n",
    "        add     rax, 4\n",
    "        cmp     rcx, rax\n",
    "        jne     .LBB0_6\n",
    "```\n",
    "\n",
    "Please explain what this is doing, and how many cycles each iteration of the loop takes.  \n",
    "\n",
    "Your explanation should include what are the inputs (what values are in each register at the beginning), what are the outputs (the values of the registers at the end), and how it is computing this.  Your answer should be complete in that all 7 instructions must be explained.\n"
   ]
  },
  {
   "cell_type": "markdown",
   "metadata": {
    "tags": []
   },
   "source": [
    "**Answer:**\n",
    "\n",
    "Broken down by instruction:\n",
    "\n",
    "vpcmpeqd - latency = 1: This instruction compares the values in the xmm1 register and the values in the memory location pointed to by (rdi + 4*rax) for equality (each value is treated as a 32-bit integer). If they are equal, it sets the corresponding value in xmm3 to all ones (0xFFFFFFFF), otherwise, it sets it to zero.\n",
    "\n",
    "vpmovzxdq - latency = 3: This instruction zero-extends each 32-bit integer value in xmm3 to a 64-bit integer in ymm3. The result will have the 32-bit integer values interlaced with 32 bits of zero.\n",
    "\n",
    "vpand - latency = 1: This performs a vectorized bitwise AND operation between the values in ymm3 and ymm2, storing the result back in ymm3.\n",
    "\n",
    "vpaddq - latency = 1: Adds the 64-bit integer values in ymm3 to those in ymm0, storing the result in ymm0.\n",
    "\n",
    "add - latency = 1: This increments the rax register by 4.\n",
    "\n",
    "cmp - latency = 1: Compares the values in the rcx and rax registers.\n",
    "\n",
    "jne - latency = 1: If rcx is not equal to rax, it jumps back to the label .LBB0_6, effectively creating a loop. Ohterwise, the loop ends. \n",
    "\n",
    "Total latency: 9\n",
    "\n",
    "The vectorization is set up to round down the length of the array to the nearest multiple of 4, indicating that the ectorized loop will process and compare groups of 4 integers at once. The loop processes in chunks of 4 integers until it has processed rcx integers."
   ]
  },
  {
   "cell_type": "markdown",
   "metadata": {},
   "source": [
    "### Question 2\n",
    "\n",
    "After the loop\n",
    "\n",
    "```\n",
    "        vextracti128    xmm1, ymm0, 1\n",
    "        vpaddq  xmm0, xmm0, xmm1\n",
    "        vpshufd xmm1, xmm0, 238                 # xmm1 = xmm0[2,3,2,3]\n",
    "        vpaddq  xmm0, xmm0, xmm1\n",
    "        vmovq   rax, xmm0\n",
    "```\n",
    "\n",
    "Please explain what this is doing, and how many cycles it takes.  \n",
    "\n",
    "Once again please include the inputs, outputs, and cost.  You must include an explanation for every instruction and what it is doing."
   ]
  },
  {
   "cell_type": "markdown",
   "metadata": {},
   "source": [
    "**Answer:**\n",
    "\n",
    "Broken down by instruction:\n",
    "\n",
    "vextracti128 - latency = 3: This instruction extracts the higher 128 bits of a 256-bit YMM register and stores them in an XMM register.\n",
    "\n",
    "vpaddq - latency = 1: This instruction adds packed quadword (64-bit) integers from xmm0 and xmm1 and stores the result in xmm0, which essentially means each 64-bit integer in xmm0 is added to the corresponding 64-bit integer in xmm1.\n",
    "\n",
    "vpshufd - latency = 1: This instruction shuffles the doublewords (32-bit integers) in xmm0 based on the immediate value, which in this case, xmm1 gets the values from xmm0 in the order: [2, 3, 2, 3], meaning that the third and fourth doublewords in xmm0 are duplicated in xmm1.\n",
    "\n",
    "vpaddq - latency = 1: Given the previous shuffle operation, this will add the third and fourth 64-bit integers from xmm0 to the first and second 64-bit integers of xmm0 respectively. \n",
    "\n",
    "vmovq - latency = 1: This instruction moves the least significant quadword (64-bit value) from xmm0 to rax. After the previous instructions, this value in xmm0 represents the aggregated count of the desired integer from the vectorized portion of the function.\n",
    "\n",
    "Total latency: 7 cycles\n",
    "\n",
    "The block is aggregating the results from the vectorized loop. The vectorized loop processed groups of integers, and the results were accumulated in different lanes of the YMM registers. Those partial results are aggregated into a single count, which is stored in rax."
   ]
  },
  {
   "cell_type": "markdown",
   "metadata": {},
   "source": [
    "## Part 2: Writing Vectorized Code\n",
    "\n",
    "In this part you will tackle a new problem, write some code for it, and then analyze it.  The problem can be found at [http://preview.speedcode.org/ide/index.html?count_pairs](http://preview.speedcode.org/ide/index.html?count_pairs)\n",
    "\n",
    "The goal of the problem us to count unaligned pairs of bytes in an array.\n",
    "\n",
    "The starting code is \n",
    "```c\n",
    "uint64_t count_pairs(uint8_t *data, uint64_t size, uint8_t target) {\n",
    "  uint64_t total = 0;\n",
    "  for (uint64_t i = 0; i < size - 1; i++) {\n",
    "    if (data[i] == target && data[i + 1] == target) {\n",
    "      total += 1;\n",
    "    }\n",
    "  }\n",
    "  return total;\n",
    "}\n",
    "```\n",
    "\n",
    "\n"
   ]
  },
  {
   "cell_type": "markdown",
   "metadata": {},
   "source": [
    "### Question 3\n",
    "\n",
    "Please achieve 1,000% speedup or more over the reference code and include your code in your submission.\n",
    "\n",
    "You must explain your solution in English as well.  Submissions without a full explanation will not receive points. \n",
    "\n",
    "If you did it using intrinsics then explain your inner loop as you did for the previous problem.  \n",
    "Including: \n",
    " - how does it compute the answer?\n",
    " - how many cycles does it take?\n",
    " - how many iterations of the base loop from the starting code does it compute on each iteration?\n",
    "\n",
    "If you did it without using intrinsics please explain what you did to transform the problem into a form that the compiler could vectorize.\n",
    "\n",
    "Yes, this is a hint that it can be done either with, or without intrinsics\n"
   ]
  },
  {
   "cell_type": "markdown",
   "metadata": {},
   "source": [
    "**Code:**"
   ]
  },
  {
   "cell_type": "code",
   "execution_count": null,
   "metadata": {
    "tags": []
   },
   "outputs": [],
   "source": [
    "void zero_i(void *v) { *(long *)v = 0; }\n",
    "void plus_i(void *l, void *r) { *(long *)l += *(long *)r; }\n",
    "\n",
    "uint64_t count_pairs(uint8_t *data, uint64_t size, uint8_t target) {\n",
    "    long cilk_reducer(zero_i, plus_i) pair_count = 0;\n",
    "\n",
    "    const uint64_t simd_chunk_size = 32;\n",
    "    __m256i target_byte_vector = _mm256_set1_epi8(target);\n",
    "\n",
    "    cilk_for (uint64_t i = 0; i < size / simd_chunk_size - 1; i++) {\n",
    "        __m256i current_data = _mm256_loadu_si256((__m256i *)&data[i * simd_chunk_size]);\n",
    "\n",
    "        // Get a mask where each byte matches the target\n",
    "        __m256i match_mask = _mm256_cmpeq_epi8(current_data, target_byte_vector);\n",
    "\n",
    "        // Check for adjacent matches\n",
    "        __m256i shifted_match_mask = _mm256_bslli_epi128(match_mask, 1);\n",
    "        __m256i adjacent_match_mask = _mm256_and_si256(shifted_match_mask, match_mask);\n",
    "\n",
    "        // Count the number of matches\n",
    "        pair_count += _mm_popcnt_u32(_mm256_movemask_epi8(adjacent_match_mask));\n",
    "\n",
    "        // Handle boundary case between chunks\n",
    "        uint8_t last_byte_current_chunk = data[i * simd_chunk_size + simd_chunk_size - 1];\n",
    "        uint8_t first_byte_next_chunk = data[i * simd_chunk_size + simd_chunk_size];\n",
    "        if (last_byte_current_chunk == target && first_byte_next_chunk == target) {\n",
    "            pair_count += 1;\n",
    "        }\n",
    "    }\n",
    "\n",
    "    // Handle remaining bytes\n",
    "    for (uint64_t i = (size / simd_chunk_size - 1) * simd_chunk_size; i < size - 1; i++) {\n",
    "        if (data[i] == target && data[i + 1] == target) {\n",
    "            pair_count += 1;\n",
    "        }\n",
    "    }\n",
    "\n",
    "    return pair_count;\n",
    "}"
   ]
  },
  {
   "cell_type": "markdown",
   "metadata": {
    "tags": []
   },
   "source": [
    "**Description:**\n",
    "\n",
    "*How does it compute the answer?*  \n",
    "The code uses a combination of Cilk's cilk_for and SIMD intrinsics to process chunks of 32 bytes at once. For each 32-byte chunk, it checks for adjacent bytes matching the target. This is done by creating a mask where each byte matches the target, shifting this mask by one byte, and then performing a logical AND to identify adjacent matches. Using pop count (_mm_popcnt_u32), the code counts the number of found pairs in the current chunk. For the boundary case, the code checks if a pair is split between the current chunk and the next chunk by comparing the last byte of the current chunk with the first byte of the next chunk. After the main vectorized loop, a scalar loop handles any bytes not processed in the 32-byte chunks.  \n",
    "  \n",
    "*How many cycles does it take?*  \n",
    "Data load: 7 cycles  \n",
    "Byte comparison to create mask: 1 cycle  \n",
    "Byte shift left for adjacent match: 1 cycle  \n",
    "Logical AND for finding adjacent matches: 1 cycle  \n",
    "Extracting high bits from the mask: 3 cycles  \n",
    "Counting number of pairs using popcount: 2 cycles  \n",
    "Boundary check between chunks (scalar operations): ~10 cycles (estimated)  \n",
    "Total: ~25 cycles  \n",
    "\n",
    "*How many iterations of the base loop does it compute on each iteration?*  \n",
    "In each iteration of the vectorized loop, the code processes 32 bytes at once, and since it looks for pairs, it is effectively processing 31 potential pairs. This means it covers 31 iterations of the original loop in each iteration of the vectorized loop.\n"
   ]
  },
  {
   "cell_type": "code",
   "execution_count": null,
   "metadata": {},
   "outputs": [],
   "source": []
  }
 ],
 "metadata": {
  "kernelspec": {
   "display_name": "Python 3 (ipykernel)",
   "language": "python",
   "name": "python3"
  },
  "language_info": {
   "codemirror_mode": {
    "name": "ipython",
    "version": 3
   },
   "file_extension": ".py",
   "mimetype": "text/x-python",
   "name": "python",
   "nbconvert_exporter": "python",
   "pygments_lexer": "ipython3",
   "version": "3.10.9"
  }
 },
 "nbformat": 4,
 "nbformat_minor": 4
}
