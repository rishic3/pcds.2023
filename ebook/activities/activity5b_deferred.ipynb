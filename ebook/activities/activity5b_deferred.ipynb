{
 "cells": [
  {
   "cell_type": "markdown",
   "metadata": {
    "id": "UHPtaA6QbycI"
   },
   "source": [
    "## dask <code>compute()</code> Deferred Computing\n",
    "\n",
    "We're going to build a somewhat interesting workload and then run it a couple of different ways.  Let's start by loading the NYC flight data.\n",
    "\n",
    "This exercise will reinforce dask dataframe programming concepts by building a set of analyses. We will then use these type of `groupby` and aggregate queries to look at execution properties.\n",
    "\n",
    "Code that you need to write is indicated with #TODO. I've left the output of the reference implementation in the cells so that you can refer to it for correctness.  You can refer to the read-only shared version for this output."
   ]
  },
  {
   "cell_type": "markdown",
   "metadata": {
    "id": "2ynzaF1Duo7K"
   },
   "source": [
    "Read in the NYC Flights data from Google cloud storage and then print the dataframe metadata."
   ]
  },
  {
   "cell_type": "code",
   "execution_count": null,
   "metadata": {
    "colab": {
     "base_uri": "https://localhost:8080/",
     "height": 292
    },
    "id": "zRuqHz41bycJ",
    "outputId": "6fada593-02fd-4430-c636-1c94f5fdbe0d",
    "tags": []
   },
   "outputs": [],
   "source": [
    "import dask.dataframe as dd\n",
    "\n",
    "df = dd.read_csv(\"../data/nycflight/*.csv\",\n",
    "                 parse_dates={'Date': [0, 1, 2]},\n",
    "                 dtype={'TailNum': str,\n",
    "                        'CRSElapsedTime': float,\n",
    "                        'Cancelled': bool})\n",
    "df"
   ]
  },
  {
   "cell_type": "markdown",
   "metadata": {
    "id": "PMA9jq_hbycN"
   },
   "source": [
    "Let's build a set of queries around the performance of particular planes, identified by tail number.  The pattern will be to <code>groupby('TailNum') and then compute statistics.\n",
    "\n",
    "__Query__: What is the average departure delay 'DepDelay' for each plane?"
   ]
  },
  {
   "cell_type": "code",
   "execution_count": null,
   "metadata": {
    "colab": {
     "base_uri": "https://localhost:8080/"
    },
    "id": "oj9dXHzWbycO",
    "outputId": "9c8a671a-2153-417b-90c3-3639e4eda911",
    "tags": []
   },
   "outputs": [],
   "source": [
    "#TODO\n",
    "df_delay"
   ]
  },
  {
   "cell_type": "markdown",
   "metadata": {
    "id": "VX_4SPX5bycR"
   },
   "source": [
    "Interesting, some planes were early, lets plot a histrogram of the distribution with 1000 bins."
   ]
  },
  {
   "cell_type": "code",
   "execution_count": null,
   "metadata": {
    "colab": {
     "base_uri": "https://localhost:8080/",
     "height": 283
    },
    "id": "PImy_enebycS",
    "outputId": "bfd6b26b-d0a9-4be8-e5f3-a804d2bb33d0",
    "tags": []
   },
   "outputs": [],
   "source": [
    "%matplotlib inline\n",
    "#TODO"
   ]
  },
  {
   "cell_type": "markdown",
   "metadata": {
    "id": "5XRyPc7gbycW"
   },
   "source": [
    "OK, we have very few chronically bad planes.  Let's find those that are 30 (or more) minutes late on average."
   ]
  },
  {
   "cell_type": "code",
   "execution_count": null,
   "metadata": {
    "colab": {
     "base_uri": "https://localhost:8080/"
    },
    "id": "X2AGAd6XbycX",
    "outputId": "11cd3602-85df-4902-fe31-0020079c018e",
    "tags": []
   },
   "outputs": [],
   "source": [
    "import numpy as np\n",
    "lateplanes = #TODO\n",
    "print(np.sort(lateplanes))"
   ]
  },
  {
   "cell_type": "markdown",
   "metadata": {
    "id": "dLm2yoDEbycZ"
   },
   "source": [
    "OK, this is a hard query.\n",
    "Build a dataframe that is a subset all the data associated with the late planes.  There are many ways to solve this problem. I would recommend looking at the `isin()` function in dask."
   ]
  },
  {
   "cell_type": "code",
   "execution_count": null,
   "metadata": {
    "colab": {
     "base_uri": "https://localhost:8080/",
     "height": 661
    },
    "id": "bXdqGUczbyca",
    "outputId": "1743d4bc-d5af-4966-e1ac-d5a40d8f4e20",
    "tags": []
   },
   "outputs": [],
   "source": [
    "df_late = #TODO\n",
    "df_late"
   ]
  },
  {
   "cell_type": "markdown",
   "metadata": {
    "id": "aVCJRMxhbycd"
   },
   "source": [
    "Double check that the planes indexes match."
   ]
  },
  {
   "cell_type": "code",
   "execution_count": null,
   "metadata": {
    "colab": {
     "base_uri": "https://localhost:8080/"
    },
    "id": "2kUowBa0byce",
    "outputId": "f124bcca-52b0-4425-fded-ee09d42befba",
    "tags": []
   },
   "outputs": [],
   "source": [
    "import numpy as np\n",
    "latelist = #TODO\n",
    "print(np.sort(latelist))"
   ]
  },
  {
   "cell_type": "markdown",
   "metadata": {
    "id": "r5rj3Wgpbych"
   },
   "source": [
    "Now, let's get a sense of what airports these planes fly out of.  For the planes in the late_list, let's find out the total delay at these airports, the average delay by airport and the total number of flights at each airport."
   ]
  },
  {
   "cell_type": "code",
   "execution_count": null,
   "metadata": {
    "colab": {
     "base_uri": "https://localhost:8080/"
    },
    "id": "e9cj7W-cbyci",
    "outputId": "27851447-427d-4957-bcf4-91a75cc7d6a9",
    "tags": []
   },
   "outputs": [],
   "source": [
    "#TODO total DepDelay for planes by Origin airport"
   ]
  },
  {
   "cell_type": "code",
   "execution_count": null,
   "metadata": {
    "colab": {
     "base_uri": "https://localhost:8080/"
    },
    "id": "6mczfLxDbycl",
    "outputId": "e26cf4ac-e5bf-42e4-e0b2-875200b22666",
    "tags": []
   },
   "outputs": [],
   "source": [
    "#TODO average DepDelay for planes by Origin airport"
   ]
  },
  {
   "cell_type": "code",
   "execution_count": null,
   "metadata": {
    "colab": {
     "base_uri": "https://localhost:8080/"
    },
    "id": "OyuCYWZVbyco",
    "outputId": "04c89f0b-f559-4528-f143-99ecc8d35d3b",
    "tags": []
   },
   "outputs": [],
   "source": [
    "#TODO number of late flights by Origin airport"
   ]
  },
  {
   "cell_type": "markdown",
   "metadata": {
    "id": "QRGT4VF9bycq"
   },
   "source": [
    "I don't know that these statistics all make sense, but that's to debug.\n",
    "\n",
    "## Deferred computing\n",
    "\n",
    "We are going to show the value of deferred computation by timing the following\n",
    "queries in two different ways:\n",
    "\n",
    "```python\n",
    "df1 = df.groupby(['Origin','TailNum']).DepDelay.mean()\n",
    "df2 = df.groupby(['TailNum','Origin']).DepDelay.mean()\n",
    "df3 = df.groupby(['Origin','TailNum']).DepDelay.max()\n",
    "df4 = df.groupby(['TailNum','Origin']).DepDelay.max()\n",
    "```\n",
    "\n",
    " 1. In one cell, add these lines and then call `compute()` on every step.\n",
    " 2. In the next cell, add the lines and only call compute at the end.\n",
    "\n",
    " First reload the data:"
   ]
  },
  {
   "cell_type": "code",
   "execution_count": null,
   "metadata": {
    "id": "cTVf7PE0cw7F",
    "tags": []
   },
   "outputs": [],
   "source": [
    "import dask.dataframe as dd\n",
    "df = dd.read_csv(\"../data/nycflight/*.csv\",\n",
    "                 parse_dates={'Date': [0, 1, 2]},\n",
    "                 dtype={'TailNum': str,\n",
    "                        'CRSElapsedTime': float,\n",
    "                        'Cancelled': bool})"
   ]
  },
  {
   "cell_type": "markdown",
   "metadata": {
    "id": "e6oGIaoQdhyH"
   },
   "source": [
    "Run the workload calling `compute()` on every line."
   ]
  },
  {
   "cell_type": "code",
   "execution_count": null,
   "metadata": {
    "colab": {
     "base_uri": "https://localhost:8080/"
    },
    "id": "UWioeYsrbycr",
    "outputId": "d6485d99-1685-4837-cafa-1aebcf614318"
   },
   "outputs": [],
   "source": [
    "%%time\n",
    "\n",
    "#TODO"
   ]
  },
  {
   "cell_type": "markdown",
   "metadata": {
    "id": "a-pxDkYcc_3h"
   },
   "source": [
    "Load the data again to make sure that intermediate results are not cached and run the entire workload calling `compute()` just once."
   ]
  },
  {
   "cell_type": "code",
   "execution_count": null,
   "metadata": {
    "id": "SzZg4-6Vc8Xr",
    "tags": []
   },
   "outputs": [],
   "source": [
    "import dask.dataframe as dd\n",
    "df = dd.read_csv(\"../data/nycflight/*.csv\",\n",
    "                 parse_dates={'Date': [0, 1, 2]},\n",
    "                 dtype={'TailNum': str,\n",
    "                        'CRSElapsedTime': float,\n",
    "                        'Cancelled': bool})"
   ]
  },
  {
   "cell_type": "code",
   "execution_count": null,
   "metadata": {
    "colab": {
     "base_uri": "https://localhost:8080/"
    },
    "id": "hypQ3dDXbyct",
    "outputId": "ef0cdfe1-aa64-45bd-b901-0e5205a027c3",
    "tags": []
   },
   "outputs": [],
   "source": [
    "%%time\n",
    "\n",
    "#TODO"
   ]
  },
  {
   "cell_type": "markdown",
   "metadata": {
    "id": "Huv7gmPPbyc0"
   },
   "source": [
    "\n",
    "\n",
    "### Outcomes\n",
    "* Wrestled with dataframes syntax and concepts.  Good for you.\n",
    "* Witnessed the benefit of deferred computation."
   ]
  },
  {
   "cell_type": "markdown",
   "metadata": {
    "id": "WomfO0mejxw7"
   },
   "source": [
    "### Questions\n",
    "\n",
    "1. On computational reuse in execution graphs:\n",
    "    1. How much faster is it to defer the computation to the end versus calling `compute()` on every line?\n",
    "    2. What computations are shared in the workflow?  Be specific, i.e. identify the code.\n",
    "    3. Explain the speedup realized in 1(a). Why is it not faster? Why is it not slower?\n"
   ]
  },
  {
   "cell_type": "code",
   "execution_count": null,
   "metadata": {},
   "outputs": [],
   "source": []
  }
 ],
 "metadata": {
  "colab": {
   "provenance": []
  },
  "kernelspec": {
   "display_name": "Python 3 (ipykernel)",
   "language": "python",
   "name": "python3"
  },
  "language_info": {
   "codemirror_mode": {
    "name": "ipython",
    "version": 3
   },
   "file_extension": ".py",
   "mimetype": "text/x-python",
   "name": "python",
   "nbconvert_exporter": "python",
   "pygments_lexer": "ipython3",
   "version": "3.10.9"
  }
 },
 "nbformat": 4,
 "nbformat_minor": 4
}
