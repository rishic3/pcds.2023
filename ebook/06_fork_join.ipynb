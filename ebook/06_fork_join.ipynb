{
 "cells": [
  {
   "cell_type": "markdown",
   "metadata": {},
   "source": [
    "# Fork Join Parallelism"
   ]
  },
  {
   "cell_type": "markdown",
   "metadata": {},
   "source": [
    "Fork Join is a model of computation used to express parallel programs\n",
    "\n",
    "It used used in OpenMP as well as in unix style pthreads"
   ]
  },
  {
   "cell_type": "markdown",
   "metadata": {},
   "source": [
    "## Operations\n",
    "\n",
    "The fork join model has two basic primitives\n",
    "\n",
    "### Fork\n",
    "Fork specifies a set of work that is \"forked-off\" and can be executed  in parallel with the rest of the function\n",
    "\n",
    "### Join\n",
    "join specifies waiting until the forked off thread completes\n"
   ]
  },
  {
   "cell_type": "markdown",
   "metadata": {},
   "source": [
    "## Examples\n",
    "All python style examples are just pseudo code and are not meant to run\n",
    "### Sorting\n",
    "```python\n",
    "# taken from wikipedia\n",
    "def mergesort(A, lo, hi):\n",
    "    if lo < hi: # ensure we have input\n",
    "        mid = ⌊lo + (hi - lo) / 2⌋\n",
    "        fork mergesort(A, lo, mid) # sort the first half concurrently \n",
    "        mergesort(A, mid, hi) # have the main thread sort the second half\n",
    "        join # wail till both are done\n",
    "        merge(A, lo, mid, hi)\n",
    "````\n",
    "### Fibonacci\n",
    "\n",
    "```python\n",
    "def fib(n):\n",
    "    if n < 2: # handle the small case\n",
    "        return n\n",
    "    x = fork fib(n-1) # fork of the larger half\n",
    "    y = fib(n-2) # compute the smaller half\n",
    "    join # wait till both are done\n",
    "    return x + y\n",
    "``` \n"
   ]
  },
  {
   "cell_type": "markdown",
   "metadata": {},
   "source": [
    "## Fib(5)\n",
    "\n",
    "Lets walk through an example of what fib(5) actually does in a divide and conquer approach"
   ]
  },
  {
   "cell_type": "code",
   "execution_count": 1,
   "metadata": {
    "tags": []
   },
   "outputs": [
    {
     "ename": "FileNotFoundError",
     "evalue": "[Errno 2] No such file or directory: '../images/fork_join_lec/divide_and_conquer0.png'",
     "output_type": "error",
     "traceback": [
      "\u001b[0;31m---------------------------------------------------------------------------\u001b[0m",
      "\u001b[0;31mFileNotFoundError\u001b[0m                         Traceback (most recent call last)",
      "Cell \u001b[0;32mIn[1], line 6\u001b[0m\n\u001b[1;32m      4\u001b[0m fig \u001b[38;5;241m=\u001b[39m plt\u001b[38;5;241m.\u001b[39mfigure()\n\u001b[1;32m      5\u001b[0m plt\u001b[38;5;241m.\u001b[39maxis(\u001b[38;5;124m'\u001b[39m\u001b[38;5;124moff\u001b[39m\u001b[38;5;124m'\u001b[39m)\n\u001b[0;32m----> 6\u001b[0m ani \u001b[38;5;241m=\u001b[39m matplotlib\u001b[38;5;241m.\u001b[39manimation\u001b[38;5;241m.\u001b[39mArtistAnimation(fig, [[plt\u001b[38;5;241m.\u001b[39mimshow(mgimg\u001b[38;5;241m.\u001b[39mimread(\u001b[38;5;124m\"\u001b[39m\u001b[38;5;124m../images/fork_join_lec/\u001b[39m\u001b[38;5;124m\"\u001b[39m\u001b[38;5;241m+\u001b[39mfname))]\n\u001b[1;32m      7\u001b[0m               \u001b[38;5;28;01mfor\u001b[39;00m fname \u001b[38;5;129;01min\u001b[39;00m [\u001b[38;5;124m\"\u001b[39m\u001b[38;5;124mdivide_and_conquer\u001b[39m\u001b[38;5;124m\"\u001b[39m\u001b[38;5;241m+\u001b[39m\u001b[38;5;28mstr\u001b[39m(i)\u001b[38;5;241m+\u001b[39m\u001b[38;5;124m\"\u001b[39m\u001b[38;5;124m.png\u001b[39m\u001b[38;5;124m\"\u001b[39m \u001b[38;5;28;01mfor\u001b[39;00m i \u001b[38;5;129;01min\u001b[39;00m \u001b[38;5;28mrange\u001b[39m(\u001b[38;5;241m10\u001b[39m)]])\n\u001b[1;32m      8\u001b[0m \u001b[38;5;28;01mfrom\u001b[39;00m \u001b[38;5;21;01mIPython\u001b[39;00m\u001b[38;5;21;01m.\u001b[39;00m\u001b[38;5;21;01mdisplay\u001b[39;00m \u001b[38;5;28;01mimport\u001b[39;00m HTML\n\u001b[1;32m      9\u001b[0m HTML(ani\u001b[38;5;241m.\u001b[39mto_jshtml())\n",
      "Cell \u001b[0;32mIn[1], line 6\u001b[0m, in \u001b[0;36m<listcomp>\u001b[0;34m(.0)\u001b[0m\n\u001b[1;32m      4\u001b[0m fig \u001b[38;5;241m=\u001b[39m plt\u001b[38;5;241m.\u001b[39mfigure()\n\u001b[1;32m      5\u001b[0m plt\u001b[38;5;241m.\u001b[39maxis(\u001b[38;5;124m'\u001b[39m\u001b[38;5;124moff\u001b[39m\u001b[38;5;124m'\u001b[39m)\n\u001b[0;32m----> 6\u001b[0m ani \u001b[38;5;241m=\u001b[39m matplotlib\u001b[38;5;241m.\u001b[39manimation\u001b[38;5;241m.\u001b[39mArtistAnimation(fig, [[plt\u001b[38;5;241m.\u001b[39mimshow(\u001b[43mmgimg\u001b[49m\u001b[38;5;241;43m.\u001b[39;49m\u001b[43mimread\u001b[49m\u001b[43m(\u001b[49m\u001b[38;5;124;43m\"\u001b[39;49m\u001b[38;5;124;43m../images/fork_join_lec/\u001b[39;49m\u001b[38;5;124;43m\"\u001b[39;49m\u001b[38;5;241;43m+\u001b[39;49m\u001b[43mfname\u001b[49m\u001b[43m)\u001b[49m)]\n\u001b[1;32m      7\u001b[0m               \u001b[38;5;28;01mfor\u001b[39;00m fname \u001b[38;5;129;01min\u001b[39;00m [\u001b[38;5;124m\"\u001b[39m\u001b[38;5;124mdivide_and_conquer\u001b[39m\u001b[38;5;124m\"\u001b[39m\u001b[38;5;241m+\u001b[39m\u001b[38;5;28mstr\u001b[39m(i)\u001b[38;5;241m+\u001b[39m\u001b[38;5;124m\"\u001b[39m\u001b[38;5;124m.png\u001b[39m\u001b[38;5;124m\"\u001b[39m \u001b[38;5;28;01mfor\u001b[39;00m i \u001b[38;5;129;01min\u001b[39;00m \u001b[38;5;28mrange\u001b[39m(\u001b[38;5;241m10\u001b[39m)]])\n\u001b[1;32m      8\u001b[0m \u001b[38;5;28;01mfrom\u001b[39;00m \u001b[38;5;21;01mIPython\u001b[39;00m\u001b[38;5;21;01m.\u001b[39;00m\u001b[38;5;21;01mdisplay\u001b[39;00m \u001b[38;5;28;01mimport\u001b[39;00m HTML\n\u001b[1;32m      9\u001b[0m HTML(ani\u001b[38;5;241m.\u001b[39mto_jshtml())\n",
      "File \u001b[0;32m/opt/conda/lib/python3.10/site-packages/matplotlib/image.py:1561\u001b[0m, in \u001b[0;36mimread\u001b[0;34m(fname, format)\u001b[0m\n\u001b[1;32m   1554\u001b[0m \u001b[38;5;28;01mif\u001b[39;00m \u001b[38;5;28misinstance\u001b[39m(fname, \u001b[38;5;28mstr\u001b[39m) \u001b[38;5;129;01mand\u001b[39;00m \u001b[38;5;28mlen\u001b[39m(parse\u001b[38;5;241m.\u001b[39murlparse(fname)\u001b[38;5;241m.\u001b[39mscheme) \u001b[38;5;241m>\u001b[39m \u001b[38;5;241m1\u001b[39m:\n\u001b[1;32m   1555\u001b[0m     \u001b[38;5;66;03m# Pillow doesn't handle URLs directly.\u001b[39;00m\n\u001b[1;32m   1556\u001b[0m     \u001b[38;5;28;01mraise\u001b[39;00m \u001b[38;5;167;01mValueError\u001b[39;00m(\n\u001b[1;32m   1557\u001b[0m         \u001b[38;5;124m\"\u001b[39m\u001b[38;5;124mPlease open the URL for reading and pass the \u001b[39m\u001b[38;5;124m\"\u001b[39m\n\u001b[1;32m   1558\u001b[0m         \u001b[38;5;124m\"\u001b[39m\u001b[38;5;124mresult to Pillow, e.g. with \u001b[39m\u001b[38;5;124m\"\u001b[39m\n\u001b[1;32m   1559\u001b[0m         \u001b[38;5;124m\"\u001b[39m\u001b[38;5;124m``np.array(PIL.Image.open(urllib.request.urlopen(url)))``.\u001b[39m\u001b[38;5;124m\"\u001b[39m\n\u001b[1;32m   1560\u001b[0m         )\n\u001b[0;32m-> 1561\u001b[0m \u001b[38;5;28;01mwith\u001b[39;00m \u001b[43mimg_open\u001b[49m\u001b[43m(\u001b[49m\u001b[43mfname\u001b[49m\u001b[43m)\u001b[49m \u001b[38;5;28;01mas\u001b[39;00m image:\n\u001b[1;32m   1562\u001b[0m     \u001b[38;5;28;01mreturn\u001b[39;00m (_pil_png_to_float_array(image)\n\u001b[1;32m   1563\u001b[0m             \u001b[38;5;28;01mif\u001b[39;00m \u001b[38;5;28misinstance\u001b[39m(image, PIL\u001b[38;5;241m.\u001b[39mPngImagePlugin\u001b[38;5;241m.\u001b[39mPngImageFile) \u001b[38;5;28;01melse\u001b[39;00m\n\u001b[1;32m   1564\u001b[0m             pil_to_array(image))\n",
      "File \u001b[0;32m/opt/conda/lib/python3.10/site-packages/PIL/ImageFile.py:105\u001b[0m, in \u001b[0;36mImageFile.__init__\u001b[0;34m(self, fp, filename)\u001b[0m\n\u001b[1;32m    101\u001b[0m \u001b[38;5;28mself\u001b[39m\u001b[38;5;241m.\u001b[39mdecodermaxblock \u001b[38;5;241m=\u001b[39m MAXBLOCK\n\u001b[1;32m    103\u001b[0m \u001b[38;5;28;01mif\u001b[39;00m is_path(fp):\n\u001b[1;32m    104\u001b[0m     \u001b[38;5;66;03m# filename\u001b[39;00m\n\u001b[0;32m--> 105\u001b[0m     \u001b[38;5;28mself\u001b[39m\u001b[38;5;241m.\u001b[39mfp \u001b[38;5;241m=\u001b[39m \u001b[38;5;28;43mopen\u001b[39;49m\u001b[43m(\u001b[49m\u001b[43mfp\u001b[49m\u001b[43m,\u001b[49m\u001b[43m \u001b[49m\u001b[38;5;124;43m\"\u001b[39;49m\u001b[38;5;124;43mrb\u001b[39;49m\u001b[38;5;124;43m\"\u001b[39;49m\u001b[43m)\u001b[49m\n\u001b[1;32m    106\u001b[0m     \u001b[38;5;28mself\u001b[39m\u001b[38;5;241m.\u001b[39mfilename \u001b[38;5;241m=\u001b[39m fp\n\u001b[1;32m    107\u001b[0m     \u001b[38;5;28mself\u001b[39m\u001b[38;5;241m.\u001b[39m_exclusive_fp \u001b[38;5;241m=\u001b[39m \u001b[38;5;28;01mTrue\u001b[39;00m\n",
      "\u001b[0;31mFileNotFoundError\u001b[0m: [Errno 2] No such file or directory: '../images/fork_join_lec/divide_and_conquer0.png'"
     ]
    },
    {
     "data": {
      "image/png": "[encoded data removed]",
      "text/plain": [
       "<Figure size 640x480 with 1 Axes>"
      ]
     },
     "metadata": {},
     "output_type": "display_data"
    }
   ],
   "source": [
    "import matplotlib.pyplot as plt\n",
    "import matplotlib.animation\n",
    "import matplotlib.image as mgimg\n",
    "fig = plt.figure()\n",
    "plt.axis('off')\n",
    "ani = matplotlib.animation.ArtistAnimation(fig, [[plt.imshow(mgimg.imread(\"../images/fork_join_lec/\"+fname))]\n",
    "              for fname in [\"divide_and_conquer\"+str(i)+\".png\" for i in range(10)]])\n",
    "from IPython.display import HTML\n",
    "HTML(ani.to_jshtml())"
   ]
  },
  {
   "cell_type": "markdown",
   "metadata": {},
   "source": [
    "Now we wish to look at it in a fork join style, let's start by transforming the code to remove the recursion\n",
    "\n",
    "You can basically think of this as mirroring the computation so we show the joins as new steps instead of just going back up the tree \n",
    "![fork_join](images/fork_join_lec/fork_join.png \"fork_join\")\n"
   ]
  },
  {
   "cell_type": "markdown",
   "metadata": {},
   "source": [
    "## Work\n",
    "\n",
    "The work is the total number of operations of a computation.  This is the standard measure you probably think about when you think about analyzing an algorithm\n",
    "\n",
    "## Span\n",
    "Span (also known as depth) is the longest path through the dag of computation.  Or the longest chain of dependencies.  This measured the time to compute on an infinite number processors if forking and joining has no cost\n"
   ]
  },
  {
   "cell_type": "markdown",
   "metadata": {},
   "source": [
    "## Parallel For Loop\n",
    "\n",
    "A common operation that you want to do is run a loop with all of the iterations running in parallel.\n",
    "\n",
    "```python\n",
    "def dot_product(A, B, C):\n",
    "    length = len(A)\n",
    "    parallel_for (0, length, lambda i : C[i] = A[i] * B[i])\n",
    "```"
   ]
  },
  {
   "cell_type": "markdown",
   "metadata": {},
   "source": [
    "```python\n",
    "def parallel_for1(start, end, func):\n",
    "    for i in range(start, end):\n",
    "        fork func(i)\n",
    "    join\n",
    "```\n",
    "\n",
    "Assuming that func is O(1) what is the work of parallel_for1?\n",
    "\n",
    "What is the span? "
   ]
  },
  {
   "cell_type": "markdown",
   "metadata": {},
   "source": [
    "## Reducing the Span \n",
    "\n",
    "```python\n",
    "def parallel_for2(start, end, func):\n",
    "    if end - start < Threshold:\n",
    "        for i in range(start, end):\n",
    "            func(i)\n",
    "    middle = start + (end - start) / 2\n",
    "    fork parallel_for2(start, middle, func)\n",
    "    parallel_for2(middle, end, func)\n",
    "    join\n",
    "```\n",
    "\n",
    "Assuming that func is O(1) what is the work of parallel_for1?\n",
    "\n",
    "What is the span? "
   ]
  },
  {
   "cell_type": "markdown",
   "metadata": {},
   "source": [
    "## Reducers\n",
    "\n",
    "Let's say we want to do the simple operations of of summing up a vector\n",
    "```python\n",
    "def bad_sum(A):\n",
    "    total = 0\n",
    "    # This code has a race condition on total\n",
    "    # since multiple threads read and write the same value\n",
    "    parallel_for (0, len(A), lambda i : total += total[i])\n",
    "    return total\n",
    "```\n",
    "\n",
    "A reducer (which corresponds to the algebraic object of a monoid) is an object designed to allow multiple threads to all contribute to some value through associative operations.\n",
    "\n",
    "A reducer is defined by two functions, identity and combine.\n",
    "\n",
    "The identity specifies the original or default value for the object, and the combine function specifies how to combine two different values.\n",
    "\n",
    "For example a summation reducer can be defined as follows\n",
    "\n",
    "```python\n",
    "def identity():\n",
    "    return 0\n",
    "def combine(a, b):\n",
    "    return a+b\n",
    "\n",
    "total = Reducer(identity, combine)\n",
    "```\n",
    "\n",
    "What would the identity and combine functions be for a min reducer?\n"
   ]
  },
  {
   "cell_type": "markdown",
   "metadata": {},
   "source": [
    "## Implementing a basic reducer\n",
    "```python\n",
    "class Reducer()\n",
    "    def __init(self, identity, combine):\n",
    "        # store the identity and combine\n",
    "        self.identity = identity\n",
    "        self.combine = combine\n",
    "        # give each thread its own value to manipulate\n",
    "        self.thread_local = [self.identity() for i in num_threads()]\n",
    "\n",
    "    def update(new_value):\n",
    "        # only update the thread local copy\n",
    "        self.thread_local[thread_id()] = self.combine(self.thread_local[thread_id()], new_value)\n",
    "\n",
    "    def value()\n",
    "        # combine all thread_local values\n",
    "        val = self.identity()\n",
    "        for thread_value in self.thread_local:\n",
    "            val = combine(val, thread_value)\n",
    "        return val\n",
    "```"
   ]
  },
  {
   "cell_type": "markdown",
   "metadata": {},
   "source": [
    "Sum function using a reducer\n",
    "```python\n",
    "def good_sum(A):\n",
    "    total = Reducer(identity, combine)\n",
    "    parallel_for (0, len(A), lamda i : total.update(total[i]))\n",
    "    return total.value()\n",
    "```"
   ]
  },
  {
   "cell_type": "markdown",
   "metadata": {},
   "source": [
    "# Cilk\n",
    "For more information see [opencilk](https://www.opencilk.org/)\n",
    "To download see [github](https://github.com/OpenCilk/opencilk-project)\n",
    "\n",
    "Cilk is a task parallel platform for shared memory programming using fork=join parallelism for c and c++.\n",
    "\n",
    "Cilk is designed to allow the user to express logical parallelism without needing to think about any of the implementation details.\n",
    "\n",
    "Cilk has 2 major keywords\n",
    "- cilk_spawn which corresponds to a fork\n",
    "- cilk_scope which defines when and what to join\n"
   ]
  },
  {
   "cell_type": "markdown",
   "metadata": {},
   "source": [
    "## Examples of code using Cilk\n",
    "\n",
    "```c++\n",
    "int fib(int n) {\n",
    "  if (n < 2)\n",
    "    return n;                   // base case\n",
    "  int x, y;\n",
    "  cilk_scope {                  // begin lexical scope of parallel region\n",
    "    x = cilk_spawn fib(n-1);  // don't wait for function to return\n",
    "    y = fib(n-2);             // may run in parallel with spawned function\n",
    "  }                             // wait for spawned function if needed\n",
    "  return x + y;\n",
    "}\n",
    "```\n",
    "\n",
    "For ease cilk also provides a parallel for loop with `cilk_for`\n",
    "\n",
    "```c++\n",
    "void dot_product(int* A, int* B, int* C, int n){\n",
    "  cilk_for(in i = 0; i < n; i++) {\n",
    "    C[i] = A[i]*B[i];\n",
    "  }\n",
    "}\n",
    "```\n",
    "\n",
    "### Reducers using Cilk\n",
    "\n",
    "```c++\n",
    "void identity(void *view) { *(int *)view = 0.0; }\n",
    "void combine(void *left, void *right) { *(int *)left += *(int *)right; }\n",
    "\n",
    "int sum(int* A, int n) {\n",
    "  int cilk_reducer(identity, combine) total;\n",
    "  cilk_for(int i = 0; i < n; i++) {\n",
    "    total += A[i];\n",
    "  }\n",
    "}\n",
    "```\n",
    "\n",
    "you can also use the build in reducers by declaring them like\n",
    "\n",
    "`cilk::opadd_reducer<int> reducer = 0.0;`\n",
    "\n",
    "One benefit of cilk code is that it has serial semantics (serial equivalence), that means if you just delete every cilk keyword (or use `#define` to remove them) the code should be a correct standard serial c++ program with the same behavior \n",
    "\n"
   ]
  },
  {
   "cell_type": "markdown",
   "metadata": {},
   "source": [
    "# Try it yourself \n",
    "Go to speedcode at [http://preview.speedcode.org/](http://preview.speedcode.org/)\n",
    "\n",
    "First try Integral.  Once you are finished that continue with Matrix Multiplication.\n",
    "\n",
    "If you finish that feel free to try any of the others, my recommendation is Triangle counting."
   ]
  },
  {
   "cell_type": "markdown",
   "metadata": {},
   "source": [
    "```c++\n",
    "double integral(const Func& f, size_t n, double low, double high) {\n",
    "  double ans = 0.0;\n",
    "  for (int i=0; i<n; i++) {\n",
    "    double x = low + (high-low)*i/n;\n",
    "    double dx = (high-low)/n;\n",
    "    ans += f(x) * dx;\n",
    "  }\n",
    "  return ans;\n",
    "}\n",
    "\n",
    "void mat_mul(float *__restrict__ C, const float *__restrict__ A,\n",
    "                    const float *__restrict__ B, int64_t m, int64_t n,\n",
    "                    int64_t l) {\n",
    "  for (int64_t i = 0; i < m; ++i) {\n",
    "    for (int64_t j = 0; j < n; ++j) {\n",
    "      C[i * n + j] = 0;\n",
    "      for (int64_t k = 0; k < l; ++k) {\n",
    "        C[i * n + j] += A[i * l + k] * B[k * n + j];\n",
    "      }\n",
    "    }\n",
    "  }\n",
    "}\n",
    "```"
   ]
  }
 ],
 "metadata": {
  "kernelspec": {
   "display_name": "Python 3 (ipykernel)",
   "language": "python",
   "name": "python3"
  },
  "language_info": {
   "codemirror_mode": {
    "name": "ipython",
    "version": 3
   },
   "file_extension": ".py",
   "mimetype": "text/x-python",
   "name": "python",
   "nbconvert_exporter": "python",
   "pygments_lexer": "ipython3",
   "version": "3.10.9"
  }
 },
 "nbformat": 4,
 "nbformat_minor": 4
}
