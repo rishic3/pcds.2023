{
 "cells": [
  {
   "cell_type": "markdown",
   "metadata": {},
   "source": [
    "### Deadlock\n",
    "\n",
    "In concurrent computing, a deadlock is a state in which each member of a group is waiting for another member, including itself, to take action, such as sending a message or more commonly releasing a lock.\n",
    "\n",
    "* Conditions for deadlock\n",
    "  * Mutual exclusion\n",
    "  * Hold and wait\n",
    "  * No preemption\n",
    "  * Circular wait\n",
    "  \n",
    "The simplest deadlock occurs with two processes and 2 resources.\n",
    "\n",
    "<img src=\"https://upload.wikimedia.org/wikipedia/commons/thumb/2/28/Process_deadlock.svg/440px-Process_deadlock.svg.png\" width=256 />\n",
    "\n",
    "<img src=\"https://upload.wikimedia.org/wikipedia/commons/d/df/Two_processes%2C_two_resources.gif\" width=256 />\n"
   ]
  },
  {
   "cell_type": "markdown",
   "metadata": {},
   "source": [
    "Note that in the gif, the deadlock is resolved by restarting the top process.  This violates the \"hold and wait\" principle."
   ]
  },
  {
   "cell_type": "markdown",
   "metadata": {},
   "source": [
    "### Waits-For Graph\n",
    "\n",
    "A graph that indicates processes and resources can be used for:\n",
    "  * deadlock detection--databases and distributed systems\n",
    "  * deadlock avoidance--programming in general\n",
    "The simplest version of this graph is on the Wikipedia page:\n",
    "    \n",
    "<img src=\"https://upload.wikimedia.org/wikipedia/commons/thumb/e/e4/Wait-for_graph_example.svg/2880px-Wait-for_graph_example.svg.png\" width=256 />\n",
    "\n",
    "This drive's Chat's description\n",
    "```\n",
    "  +-----+       +-----+       +-----+\n",
    "  | P1  |<--R1--| P2  |<--R2--| P3  |\n",
    "  +-----+       +-----+       +-----+\n",
    "    ^                             |\n",
    "    |                             |\n",
    "    +-----------------------------+\n",
    "```\n",
    "But the graphs can be arbitrarily complex.\n",
    "\n",
    "### Deadlock detection\n",
    "\n",
    "Build a graph of all processes and resources. If there are cycles on this graph (traversal algorithm) then there is a deadlock. This technique has been used in relational databases for decades. \n",
    "\n",
    "### Deadlock avoidance\n",
    "\n",
    "If you sort the resources needed and make sure that all processes collect them in that order you no deadlock will occur.  Essentially any graph that defines resource ordering that has no edges will suffice. A typical example is locking a tree from root to leaf."
   ]
  },
  {
   "cell_type": "markdown",
   "metadata": {
    "tags": []
   },
   "source": [
    "Now to an [example](./examples/25_ex_ray_deadlock.ipynb)."
   ]
  },
  {
   "cell_type": "code",
   "execution_count": null,
   "metadata": {},
   "outputs": [],
   "source": []
  }
 ],
 "metadata": {
  "kernelspec": {
   "display_name": "Python 3 (ipykernel)",
   "language": "python",
   "name": "python3"
  },
  "language_info": {
   "codemirror_mode": {
    "name": "ipython",
    "version": 3
   },
   "file_extension": ".py",
   "mimetype": "text/x-python",
   "name": "python",
   "nbconvert_exporter": "python",
   "pygments_lexer": "ipython3",
   "version": "3.10.9"
  }
 },
 "nbformat": 4,
 "nbformat_minor": 4
}
